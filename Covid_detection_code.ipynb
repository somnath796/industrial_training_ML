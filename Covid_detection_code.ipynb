{
 "cells": [
  {
   "cell_type": "markdown",
   "metadata": {
    "id": "3PMty2EdFDwL"
   },
   "source": [
    "## IMPORTING Covid19-radiography-database DATASET"
   ]
  },
  {
   "cell_type": "code",
   "execution_count": null,
   "metadata": {
    "colab": {
     "base_uri": "https://localhost:8080/"
    },
    "id": "djIvdmgWlKgT",
    "outputId": "27c4a584-7aef-4b43-ccf5-6eb00f4be5eb"
   },
   "outputs": [
    {
     "name": "stdout",
     "output_type": "stream",
     "text": [
      "Collecting opendatasets\n",
      "  Downloading https://files.pythonhosted.org/packages/18/99/aaa3ebec81dc347302e730e0daff61735ed2f3e736129553fb3f9bf67ed3/opendatasets-0.1.10-py3-none-any.whl\n",
      "Requirement already satisfied, skipping upgrade: kaggle in /usr/local/lib/python3.6/dist-packages (from opendatasets) (1.5.10)\n",
      "Requirement already satisfied, skipping upgrade: click in /usr/local/lib/python3.6/dist-packages (from opendatasets) (7.1.2)\n",
      "Requirement already satisfied, skipping upgrade: tqdm in /usr/local/lib/python3.6/dist-packages (from opendatasets) (4.41.1)\n",
      "Requirement already satisfied, skipping upgrade: python-slugify in /usr/local/lib/python3.6/dist-packages (from kaggle->opendatasets) (4.0.1)\n",
      "Requirement already satisfied, skipping upgrade: certifi in /usr/local/lib/python3.6/dist-packages (from kaggle->opendatasets) (2020.12.5)\n",
      "Requirement already satisfied, skipping upgrade: python-dateutil in /usr/local/lib/python3.6/dist-packages (from kaggle->opendatasets) (2.8.1)\n",
      "Requirement already satisfied, skipping upgrade: urllib3 in /usr/local/lib/python3.6/dist-packages (from kaggle->opendatasets) (1.24.3)\n",
      "Requirement already satisfied, skipping upgrade: requests in /usr/local/lib/python3.6/dist-packages (from kaggle->opendatasets) (2.23.0)\n",
      "Requirement already satisfied, skipping upgrade: six>=1.10 in /usr/local/lib/python3.6/dist-packages (from kaggle->opendatasets) (1.15.0)\n",
      "Requirement already satisfied, skipping upgrade: text-unidecode>=1.3 in /usr/local/lib/python3.6/dist-packages (from python-slugify->kaggle->opendatasets) (1.3)\n",
      "Requirement already satisfied, skipping upgrade: chardet<4,>=3.0.2 in /usr/local/lib/python3.6/dist-packages (from requests->kaggle->opendatasets) (3.0.4)\n",
      "Requirement already satisfied, skipping upgrade: idna<3,>=2.5 in /usr/local/lib/python3.6/dist-packages (from requests->kaggle->opendatasets) (2.10)\n",
      "Installing collected packages: opendatasets\n",
      "Successfully installed opendatasets-0.1.10\n"
     ]
    }
   ],
   "source": [
    "!pip install opendatasets --upgrade"
   ]
  },
  {
   "cell_type": "code",
   "execution_count": null,
   "metadata": {
    "id": "0gTkJTbilydb"
   },
   "outputs": [],
   "source": [
    "# !cp -r \"/content/covid19-radiography-database\" \"/content/drive/MyDrive/Covid\""
   ]
  },
  {
   "cell_type": "code",
   "execution_count": null,
   "metadata": {
    "colab": {
     "base_uri": "https://localhost:8080/"
    },
    "id": "iSUSy24mnZ_1",
    "outputId": "03560161-b9f7-499e-b267-9b1c99cf0e45"
   },
   "outputs": [
    {
     "name": "stdout",
     "output_type": "stream",
     "text": [
      "Requirement already satisfied: pyyaml in /usr/local/lib/python3.6/dist-packages (3.13)\n",
      "Requirement already satisfied: h5py in /usr/local/lib/python3.6/dist-packages (2.10.0)\n",
      "Requirement already satisfied: six in /usr/local/lib/python3.6/dist-packages (from h5py) (1.15.0)\n",
      "Requirement already satisfied: numpy>=1.7 in /usr/local/lib/python3.6/dist-packages (from h5py) (1.19.5)\n"
     ]
    }
   ],
   "source": [
    "!pip install pyyaml h5py  # Required to save models in HDF5 format"
   ]
  },
  {
   "cell_type": "code",
   "execution_count": null,
   "metadata": {
    "id": "iJpiGD06mfNb"
   },
   "outputs": [],
   "source": [
    "from keras.models import Sequential\n",
    "from keras.layers import Convolution2D as Conv2D\n",
    "from keras.layers import MaxPooling2D \n",
    "from keras.layers import Flatten\n",
    "from keras.layers import Dense\n",
    "from keras.callbacks import ModelCheckpoint\n",
    "from keras.preprocessing.image import ImageDataGenerator"
   ]
  },
  {
   "cell_type": "code",
   "execution_count": null,
   "metadata": {
    "id": "iOoC5V6VoSl2"
   },
   "outputs": [],
   "source": [
    "checkpoint =ModelCheckpoint(filepath=\"Custom_CNN__ternary_model.h5\", \n",
    "                            monitor='val_accuracy',\n",
    "                            verbose=1,\n",
    "                            save_best_only=True, \n",
    "                            save_weights_only=False, \n",
    "                            mode='auto',\n",
    "                            save_freq='epoch')\n",
    "\n",
    "callbacks = [checkpoint]"
   ]
  },
  {
   "cell_type": "markdown",
   "metadata": {
    "id": "gspcjMNIFPXf"
   },
   "source": [
    "## *CREATING CNN_TERNARY MODEL*"
   ]
  },
  {
   "cell_type": "code",
   "execution_count": null,
   "metadata": {
    "id": "7dZtXnZWmzTE"
   },
   "outputs": [],
   "source": [
    "model1 = Sequential()\n",
    "model1.add(Conv2D(32, (3, 3), input_shape = (224, 224, 3), activation = 'relu'))\n",
    "model1.add(MaxPooling2D(pool_size = (2, 2)))\n",
    " \n",
    "model1.add(Conv2D(64, (3, 3),activation = 'relu'))\n",
    "model1.add(MaxPooling2D(pool_size = (2, 2)))\n",
    " \n",
    "model1.add(Conv2D(128, (3, 3),activation = 'relu'))\n",
    "model1.add(MaxPooling2D(pool_size = (2, 2)))\n",
    " \n",
    "model1.add(Conv2D(256, (3, 3),activation = 'relu'))\n",
    "model1.add(MaxPooling2D(pool_size = (2, 2)))\n",
    " \n",
    "model1.add(Conv2D(512, (3, 3),activation = 'relu'))\n",
    "model1.add(MaxPooling2D(pool_size = (2, 2)))\n",
    " \n",
    "model1.add(Flatten())\n",
    "model1.add(Dense(128, activation = 'relu'))\n",
    "model1.add(Dense(64, activation = 'relu'))\n",
    "model1.add(Dense(32, activation = 'relu'))\n",
    "model1.add(Dense(3, activation='softmax'))\n",
    " \n",
    "model1.compile(optimizer = 'adam', loss = 'categorical_crossentropy', metrics = ['accuracy'])"
   ]
  },
  {
   "cell_type": "code",
   "execution_count": null,
   "metadata": {
    "colab": {
     "base_uri": "https://localhost:8080/"
    },
    "id": "bzSgTLgXo0vQ",
    "outputId": "e111619f-866a-47e0-decf-5e32777585cc"
   },
   "outputs": [
    {
     "name": "stdout",
     "output_type": "stream",
     "text": [
      "Model: \"sequential\"\n",
      "_________________________________________________________________\n",
      "Layer (type)                 Output Shape              Param #   \n",
      "=================================================================\n",
      "conv2d (Conv2D)              (None, 222, 222, 32)      896       \n",
      "_________________________________________________________________\n",
      "max_pooling2d (MaxPooling2D) (None, 111, 111, 32)      0         \n",
      "_________________________________________________________________\n",
      "conv2d_1 (Conv2D)            (None, 109, 109, 64)      18496     \n",
      "_________________________________________________________________\n",
      "max_pooling2d_1 (MaxPooling2 (None, 54, 54, 64)        0         \n",
      "_________________________________________________________________\n",
      "conv2d_2 (Conv2D)            (None, 52, 52, 128)       73856     \n",
      "_________________________________________________________________\n",
      "max_pooling2d_2 (MaxPooling2 (None, 26, 26, 128)       0         \n",
      "_________________________________________________________________\n",
      "conv2d_3 (Conv2D)            (None, 24, 24, 256)       295168    \n",
      "_________________________________________________________________\n",
      "max_pooling2d_3 (MaxPooling2 (None, 12, 12, 256)       0         \n",
      "_________________________________________________________________\n",
      "conv2d_4 (Conv2D)            (None, 10, 10, 512)       1180160   \n",
      "_________________________________________________________________\n",
      "max_pooling2d_4 (MaxPooling2 (None, 5, 5, 512)         0         \n",
      "_________________________________________________________________\n",
      "flatten (Flatten)            (None, 12800)             0         \n",
      "_________________________________________________________________\n",
      "dense (Dense)                (None, 128)               1638528   \n",
      "_________________________________________________________________\n",
      "dense_1 (Dense)              (None, 64)                8256      \n",
      "_________________________________________________________________\n",
      "dense_2 (Dense)              (None, 32)                2080      \n",
      "_________________________________________________________________\n",
      "dense_3 (Dense)              (None, 3)                 99        \n",
      "=================================================================\n",
      "Total params: 3,217,539\n",
      "Trainable params: 3,217,539\n",
      "Non-trainable params: 0\n",
      "_________________________________________________________________\n"
     ]
    }
   ],
   "source": [
    "model1.summary()"
   ]
  },
  {
   "cell_type": "code",
   "execution_count": null,
   "metadata": {
    "colab": {
     "base_uri": "https://localhost:8080/"
    },
    "id": "Xwfq7hmdo7VA",
    "outputId": "429d8e47-3a72-4c3c-9c0d-bb3ebb5a1c92"
   },
   "outputs": [
    {
     "name": "stdout",
     "output_type": "stream",
     "text": [
      "Found 3109 images belonging to 3 classes.\n",
      "Found 777 images belonging to 3 classes.\n"
     ]
    }
   ],
   "source": [
    "\n",
    "base_dir =r'/content/Final'\n",
    " \n",
    "datagen= ImageDataGenerator(rescale=1./255,validation_split=0.2)\n",
    " \n",
    " \n",
    "train_generator = datagen.flow_from_directory(\n",
    "              base_dir,  # This is the source directory for training images\n",
    "              target_size=(224, 224),  \n",
    "              batch_size=32,\n",
    "              subset='training',\n",
    "              class_mode='categorical')\n",
    " \n",
    " \n",
    "validation_generator = datagen.flow_from_directory(\n",
    "              base_dir,\n",
    "              target_size=(224,224),\n",
    "              batch_size=32,\n",
    "              subset='validation',\n",
    "              shuffle=False,\n",
    "              class_mode='categorical')"
   ]
  },
  {
   "cell_type": "code",
   "execution_count": null,
   "metadata": {
    "colab": {
     "base_uri": "https://localhost:8080/"
    },
    "id": "MQiKKd_lrdn5",
    "outputId": "d87a7f92-55c2-45b6-9d64-6fb9c11c867b"
   },
   "outputs": [
    {
     "name": "stderr",
     "output_type": "stream",
     "text": [
      "/usr/local/lib/python3.6/dist-packages/tensorflow/python/keras/engine/training.py:1844: UserWarning: `Model.fit_generator` is deprecated and will be removed in a future version. Please use `Model.fit`, which supports generators.\n",
      "  warnings.warn('`Model.fit_generator` is deprecated and '\n"
     ]
    },
    {
     "name": "stdout",
     "output_type": "stream",
     "text": [
      "Epoch 1/5\n",
      "97/97 [==============================] - 45s 462ms/step - loss: 0.7474 - accuracy: 0.6383 - val_loss: 0.3733 - val_accuracy: 0.8906\n",
      "\n",
      "Epoch 00001: val_accuracy improved from -inf to 0.89060, saving model to Custom_CNN__ternary_model.h5\n",
      "Epoch 2/5\n",
      "97/97 [==============================] - 45s 460ms/step - loss: 0.3114 - accuracy: 0.8889 - val_loss: 0.2126 - val_accuracy: 0.9344\n",
      "\n",
      "Epoch 00002: val_accuracy improved from 0.89060 to 0.93436, saving model to Custom_CNN__ternary_model.h5\n",
      "Epoch 3/5\n",
      "97/97 [==============================] - 44s 456ms/step - loss: 0.1858 - accuracy: 0.9324 - val_loss: 0.3408 - val_accuracy: 0.8983\n",
      "\n",
      "Epoch 00003: val_accuracy did not improve from 0.93436\n",
      "Epoch 4/5\n",
      "97/97 [==============================] - 45s 460ms/step - loss: 0.1545 - accuracy: 0.9470 - val_loss: 0.2062 - val_accuracy: 0.9408\n",
      "\n",
      "Epoch 00004: val_accuracy improved from 0.93436 to 0.94080, saving model to Custom_CNN__ternary_model.h5\n",
      "Epoch 5/5\n",
      "97/97 [==============================] - 44s 458ms/step - loss: 0.1384 - accuracy: 0.9513 - val_loss: 0.2110 - val_accuracy: 0.9408\n",
      "\n",
      "Epoch 00005: val_accuracy did not improve from 0.94080\n"
     ]
    }
   ],
   "source": [
    "hist = model1.fit_generator(train_generator,\n",
    "                         steps_per_epoch = (train_generator.samples//32),\n",
    "                         epochs = 5,\n",
    "                         validation_data = validation_generator,\n",
    "                         validation_steps = (validation_generator.samples/32),\n",
    "                         callbacks=[checkpoint],\n",
    "                         verbose = 1 )"
   ]
  },
  {
   "cell_type": "markdown",
   "metadata": {
    "id": "J1M18Y19DXzl"
   },
   "source": [
    "## Accuracy of Ternary Classification using Custom CNN"
   ]
  },
  {
   "cell_type": "code",
   "execution_count": null,
   "metadata": {
    "colab": {
     "base_uri": "https://localhost:8080/"
    },
    "id": "DEKleUE62XIz",
    "outputId": "4ed6269b-6784-4e3f-ac6e-1fb9bd702081"
   },
   "outputs": [
    {
     "name": "stdout",
     "output_type": "stream",
     "text": [
      "25/25 [==============================] - 10s 394ms/step - loss: 0.2110 - accuracy: 0.9408\n",
      "Accuracy: 94.08\n"
     ]
    }
   ],
   "source": [
    "ans = model1.evaluate(validation_generator,verbose=1)\n",
    "print('Accuracy: %.2f' % (ans[1]*100))"
   ]
  },
  {
   "cell_type": "code",
   "execution_count": null,
   "metadata": {
    "id": "xwjVLcf_3xX5"
   },
   "outputs": [],
   "source": [
    "!cp -r \"/content/Custom_CNN__ternary_model.h5\" \"/content/drive/MyDrive/Model\""
   ]
  },
  {
   "cell_type": "markdown",
   "metadata": {
    "id": "Ii_6OUXIoiNS"
   },
   "source": [
    "# **Prediction using X_RAY Scan Image**"
   ]
  },
  {
   "cell_type": "code",
   "execution_count": null,
   "metadata": {
    "colab": {
     "base_uri": "https://localhost:8080/",
     "height": 340
    },
    "id": "YrWpZX4YhQ2N",
    "outputId": "7e08b70e-7bd4-4b9d-94ab-75d1a4fa2472"
   },
   "outputs": [
    {
     "name": "stdout",
     "output_type": "stream",
     "text": [
      "YOU ARE A COVID-19 PATIENT\n"
     ]
    },
    {
     "name": "stderr",
     "output_type": "stream",
     "text": [
      "/usr/local/lib/python3.7/dist-packages/tensorflow/python/keras/engine/sequential.py:450: UserWarning: `model.predict_classes()` is deprecated and will be removed after 2021-01-01. Please use instead:* `np.argmax(model.predict(x), axis=-1)`,   if your model does multi-class classification   (e.g. if it uses a `softmax` last-layer activation).* `(model.predict(x) > 0.5).astype(\"int32\")`,   if your model does binary classification   (e.g. if it uses a `sigmoid` last-layer activation).\n",
      "  warnings.warn('`model.predict_classes()` is deprecated and '\n"
     ]
    },
    {
     "data": {
      "image/png": "[encoded data removed]",
      "text/plain": [
       "<Figure size 432x288 with 1 Axes>"
      ]
     },
     "metadata": {
      "needs_background": "light",
      "tags": []
     },
     "output_type": "display_data"
    }
   ],
   "source": [
    "from keras.preprocessing.image import load_img\n",
    "from keras.preprocessing.image import img_to_array\n",
    "import matplotlib.pyplot as plt\n",
    "import numpy as np\n",
    "\n",
    "def load_image(filename):\n",
    "  # load the image\n",
    "  img = load_img(filename, target_size=(225, 225))\n",
    "  # convert to array\n",
    "  img = img_to_array(img)\n",
    "  plt.imshow(img/255.)\n",
    "  # reshape into a single sample with 3 channels\n",
    "  img = img.reshape(1, 225, 225, 3)\n",
    "  return img\n",
    "\n",
    "def predict(img):\n",
    "  result = model1.predict_classes(img)\n",
    "  if(result[0]==0):\n",
    "    print(\"YOU ARE A COVID-19 PATIENT\")\n",
    "  elif(result[0]==1):\n",
    "    print(\"YOU ARE  NORMAL\")\n",
    "  else:\n",
    "    print(\"YOU ARE A VIRAL PNEUMONIA PATIENT\")\n",
    "\n",
    "img1 = load_image('/content/drive/MyDrive/Covid/COVID-19 Radiography Database/COVID/COVID (1006).png')\n",
    "predict(img1)"
   ]
  },
  {
   "cell_type": "code",
   "execution_count": null,
   "metadata": {
    "colab": {
     "base_uri": "https://localhost:8080/",
     "height": 340
    },
    "id": "th6ucomoir1V",
    "outputId": "76717126-600c-4f41-fb3a-9e2e2b0c0fb5"
   },
   "outputs": [
    {
     "name": "stdout",
     "output_type": "stream",
     "text": [
      "YOU ARE  NORMAL\n"
     ]
    },
    {
     "name": "stderr",
     "output_type": "stream",
     "text": [
      "/usr/local/lib/python3.7/dist-packages/tensorflow/python/keras/engine/sequential.py:450: UserWarning: `model.predict_classes()` is deprecated and will be removed after 2021-01-01. Please use instead:* `np.argmax(model.predict(x), axis=-1)`,   if your model does multi-class classification   (e.g. if it uses a `softmax` last-layer activation).* `(model.predict(x) > 0.5).astype(\"int32\")`,   if your model does binary classification   (e.g. if it uses a `sigmoid` last-layer activation).\n",
      "  warnings.warn('`model.predict_classes()` is deprecated and '\n"
     ]
    },
    {
     "data": {
      "image/png": "[encoded data removed]",
      "text/plain": [
       "<Figure size 432x288 with 1 Axes>"
      ]
     },
     "metadata": {
      "needs_background": "light",
      "tags": []
     },
     "output_type": "display_data"
    }
   ],
   "source": [
    "img2 = load_image('/content/drive/MyDrive/Covid/COVID-19 Radiography Database/NORMAL/NORMAL (104).png')\n",
    "predict(img2)"
   ]
  },
  {
   "cell_type": "code",
   "execution_count": null,
   "metadata": {
    "colab": {
     "base_uri": "https://localhost:8080/",
     "height": 340
    },
    "id": "pQIMgsASoMZN",
    "outputId": "e1fd253e-ea5c-44e4-d319-f3edf377b1ca"
   },
   "outputs": [
    {
     "name": "stdout",
     "output_type": "stream",
     "text": [
      "YOU ARE A VIRAL PNEUMONIA PATIENT\n"
     ]
    },
    {
     "name": "stderr",
     "output_type": "stream",
     "text": [
      "/usr/local/lib/python3.7/dist-packages/tensorflow/python/keras/engine/sequential.py:450: UserWarning: `model.predict_classes()` is deprecated and will be removed after 2021-01-01. Please use instead:* `np.argmax(model.predict(x), axis=-1)`,   if your model does multi-class classification   (e.g. if it uses a `softmax` last-layer activation).* `(model.predict(x) > 0.5).astype(\"int32\")`,   if your model does binary classification   (e.g. if it uses a `sigmoid` last-layer activation).\n",
      "  warnings.warn('`model.predict_classes()` is deprecated and '\n"
     ]
    },
    {
     "data": {
      "image/png": "[encoded data removed]",
      "text/plain": [
       "<Figure size 432x288 with 1 Axes>"
      ]
     },
     "metadata": {
      "needs_background": "light",
      "tags": []
     },
     "output_type": "display_data"
    }
   ],
   "source": [
    "img3 = load_image('/content/drive/MyDrive/Covid/COVID-19 Radiography Database/Viral Pneumonia/Viral Pneumonia (1).png')\n",
    "predict(img3)"
   ]
  },
  {
   "cell_type": "markdown",
   "metadata": {
    "id": "WV1sCOCeFsbL"
   },
   "source": [
    "### ACCURACY GRAPH"
   ]
  },
  {
   "cell_type": "code",
   "execution_count": null,
   "metadata": {
    "colab": {
     "base_uri": "https://localhost:8080/",
     "height": 281
    },
    "id": "EL7C0LI5h4rB",
    "outputId": "ac474fb9-f061-4204-ffcf-420084970640"
   },
   "outputs": [
    {
     "data": {
      "image/png": "[encoded data removed]",
      "text/plain": [
       "<Figure size 432x288 with 1 Axes>"
      ]
     },
     "metadata": {
      "needs_background": "light",
      "tags": []
     },
     "output_type": "display_data"
    }
   ],
   "source": [
    "from matplotlib import pyplot\n",
    "\n",
    "# pyplot.subplot(211)\n",
    "# pyplot.title('Cross Entropy Loss')\n",
    "# pyplot.plot(hist.history['loss'], color='blue', label='train')\n",
    "# pyplot.plot(hist.history['val_loss'], color='orange', label='test')\n",
    "# # plot accuracy\n",
    "#pyplot.subplot(212)\n",
    "pyplot.title('Classification Accuracy')\n",
    "pyplot.plot(hist.history['accuracy'], color='blue', label='train')\n",
    "pyplot.plot(hist.history['val_accuracy'], color='orange', label='test')\n",
    "pyplot.savefig(\"accuracy1.png\",dpi=300)"
   ]
  },
  {
   "cell_type": "code",
   "execution_count": null,
   "metadata": {
    "id": "5gcc9I7wp029"
   },
   "outputs": [],
   "source": [
    "!cp -r \"/content/drive/MyDrive/Model\""
   ]
  },
  {
   "cell_type": "markdown",
   "metadata": {
    "id": "9-aa2Aa83Iac"
   },
   "source": [
    "## Visualizing Feature Map"
   ]
  },
  {
   "cell_type": "code",
   "execution_count": null,
   "metadata": {
    "colab": {
     "base_uri": "https://localhost:8080/"
    },
    "id": "KtCXc7yv_lcR",
    "outputId": "9c29ad13-557c-4ba8-999e-6982e490cb21"
   },
   "outputs": [
    {
     "name": "stdout",
     "output_type": "stream",
     "text": [
      "Model: \"model_5\"\n",
      "_________________________________________________________________\n",
      "Layer (type)                 Output Shape              Param #   \n",
      "=================================================================\n",
      "conv2d_input (InputLayer)    [(None, 224, 224, 3)]     0         \n",
      "_________________________________________________________________\n",
      "conv2d (Conv2D)              (None, 222, 222, 32)      896       \n",
      "_________________________________________________________________\n",
      "max_pooling2d (MaxPooling2D) (None, 111, 111, 32)      0         \n",
      "=================================================================\n",
      "Total params: 896\n",
      "Trainable params: 896\n",
      "Non-trainable params: 0\n",
      "_________________________________________________________________\n"
     ]
    }
   ],
   "source": [
    "#from keras.Input import Model\n",
    "import keras\n",
    "feature = keras.Model(model1.input,model1.layers[1].output)\n",
    "feature.summary()"
   ]
  },
  {
   "cell_type": "code",
   "execution_count": null,
   "metadata": {
    "colab": {
     "base_uri": "https://localhost:8080/"
    },
    "id": "_d_SaKtyCBvh",
    "outputId": "9dcdc8db-178e-4e15-de59-4212572e742b"
   },
   "outputs": [
    {
     "name": "stdout",
     "output_type": "stream",
     "text": [
      "(1, 224, 224, 3)\n"
     ]
    },
    {
     "data": {
      "text/plain": [
       "(1, 111, 111, 32)"
      ]
     },
     "execution_count": 96,
     "metadata": {
      "tags": []
     },
     "output_type": "execute_result"
    }
   ],
   "source": [
    "import cv2\n",
    "img= cv2.imread(\"/content/drive/MyDrive/Covid/COVID-19 Radiography Database/COVID/COVID (1).png\")\n",
    "img2= cv2.resize(img,(224,224))\n",
    "img2= np.expand_dims(img2,axis=0)\n",
    "print(img2.shape)\n",
    "feature_maps = feature.predict(img2)\n",
    "feature_maps.shape"
   ]
  },
  {
   "cell_type": "code",
   "execution_count": null,
   "metadata": {
    "colab": {
     "base_uri": "https://localhost:8080/",
     "height": 252
    },
    "id": "OK_uIOGiDZky",
    "outputId": "2ba290b4-3d67-4861-dcb7-c45ca45a9b42"
   },
   "outputs": [
    {
     "data": {
      "image/png": "[encoded data removed]",
      "text/plain": [
       "<Figure size 432x288 with 32 Axes>"
      ]
     },
     "metadata": {
      "tags": []
     },
     "output_type": "display_data"
    }
   ],
   "source": [
    "#square = 16\n",
    "ix = 1\n",
    "for _ in range(8):\n",
    "\tfor _ in range(4):\n",
    "\t\t# specify subplot and turn of axis\n",
    "\t\tax = pyplot.subplot(8, 4, ix)\n",
    "\t\tax.set_xticks([])\n",
    "\t\tax.set_yticks([])\n",
    "\t\t# plot filter channel in grayscale\n",
    "\t\tpyplot.imshow(feature_maps[0, :, :, ix-1])\n",
    "\t\tix += 1\n",
    "# show the figure\n",
    "pyplot.savefig('feature.png',dpi=1000)\n",
    "pyplot.show()"
   ]
  },
  {
   "cell_type": "markdown",
   "metadata": {
    "id": "TQiDB2ihk_Cm"
   },
   "source": [
    "## CREATING VGG MODEL"
   ]
  },
  {
   "cell_type": "code",
   "execution_count": null,
   "metadata": {
    "colab": {
     "base_uri": "https://localhost:8080/"
    },
    "id": "oO7HBJkUkYQl",
    "outputId": "fb75f28f-1054-44b7-8dcf-e183abcaaf0b"
   },
   "outputs": [
    {
     "name": "stdout",
     "output_type": "stream",
     "text": [
      "Downloading data from https://storage.googleapis.com/tensorflow/keras-applications/vgg16/vgg16_weights_tf_dim_ordering_tf_kernels_notop.h5\n",
      "58892288/58889256 [==============================] - 1s 0us/step\n"
     ]
    }
   ],
   "source": [
    "from keras.layers import Dropout\n",
    "from keras.applications import VGG16\n",
    "VGG = VGG16(input_shape=(224,224,3),include_top=False,weights = 'imagenet')\n",
    "VGG.trainable = False\n",
    "\n",
    "modelV1 = Sequential()\n",
    "modelV1.add(VGG)\n",
    "modelV1.add(Flatten())\n",
    "modelV1.add(Dense(128, activation = 'relu'))\n",
    "modelV1.add(Dense(64, activation = 'relu'))\n",
    "modelV1.add(Dropout(0.3))\n",
    "modelV1.add(Dense(32, activation = 'relu'))\n",
    "modelV1.add(Dense(3, activation='softmax'))\n",
    "\n",
    "modelV1.compile(optimizer = 'adam', loss = 'categorical_crossentropy', metrics = ['accuracy'])"
   ]
  },
  {
   "cell_type": "code",
   "execution_count": null,
   "metadata": {
    "colab": {
     "base_uri": "https://localhost:8080/"
    },
    "id": "r6MAg7Q2lLA0",
    "outputId": "70e09824-14ea-4a97-a776-ca674545ceb3"
   },
   "outputs": [
    {
     "name": "stdout",
     "output_type": "stream",
     "text": [
      "Model: \"sequential_2\"\n",
      "_________________________________________________________________\n",
      "Layer (type)                 Output Shape              Param #   \n",
      "=================================================================\n",
      "vgg16 (Functional)           (None, 7, 7, 512)         14714688  \n",
      "_________________________________________________________________\n",
      "flatten_2 (Flatten)          (None, 25088)             0         \n",
      "_________________________________________________________________\n",
      "dense_6 (Dense)              (None, 128)               3211392   \n",
      "_________________________________________________________________\n",
      "dense_7 (Dense)              (None, 64)                8256      \n",
      "_________________________________________________________________\n",
      "dropout (Dropout)            (None, 64)                0         \n",
      "_________________________________________________________________\n",
      "dense_8 (Dense)              (None, 32)                2080      \n",
      "_________________________________________________________________\n",
      "dense_9 (Dense)              (None, 3)                 99        \n",
      "=================================================================\n",
      "Total params: 17,936,515\n",
      "Trainable params: 3,221,827\n",
      "Non-trainable params: 14,714,688\n",
      "_________________________________________________________________\n"
     ]
    }
   ],
   "source": [
    "modelV1.summary()"
   ]
  },
  {
   "cell_type": "code",
   "execution_count": null,
   "metadata": {
    "id": "rjN--LMwlOgj"
   },
   "outputs": [],
   "source": [
    "checkpoint =ModelCheckpoint(filepath=\"VGG_CNN__ternary_model.h5\", \n",
    "                            monitor='val_accuracy',\n",
    "                            verbose=1,\n",
    "                            save_best_only=True, \n",
    "                            save_weights_only=False, \n",
    "                            mode='auto',\n",
    "                            save_freq='epoch')\n",
    "\n",
    "callbacks = [checkpoint]"
   ]
  },
  {
   "cell_type": "code",
   "execution_count": null,
   "metadata": {
    "colab": {
     "base_uri": "https://localhost:8080/"
    },
    "id": "iBFSQyGlpkQA",
    "outputId": "cfee99d9-cdb5-4cd9-ad1d-02ed3a952873"
   },
   "outputs": [
    {
     "name": "stderr",
     "output_type": "stream",
     "text": [
      "/usr/local/lib/python3.6/dist-packages/tensorflow/python/keras/engine/training.py:1844: UserWarning: `Model.fit_generator` is deprecated and will be removed in a future version. Please use `Model.fit`, which supports generators.\n",
      "  warnings.warn('`Model.fit_generator` is deprecated and '\n"
     ]
    },
    {
     "name": "stdout",
     "output_type": "stream",
     "text": [
      "Epoch 1/5\n",
      "97/97 [==============================] - 48s 478ms/step - loss: 0.7486 - accuracy: 0.7288 - val_loss: 0.1511 - val_accuracy: 0.9421\n",
      "\n",
      "Epoch 00001: val_accuracy improved from -inf to 0.94208, saving model to VGG_CNN__ternary_model.h5\n",
      "Epoch 2/5\n",
      "97/97 [==============================] - 46s 475ms/step - loss: 0.1573 - accuracy: 0.9452 - val_loss: 0.1474 - val_accuracy: 0.9447\n",
      "\n",
      "Epoch 00002: val_accuracy improved from 0.94208 to 0.94466, saving model to VGG_CNN__ternary_model.h5\n",
      "Epoch 3/5\n",
      "97/97 [==============================] - 46s 474ms/step - loss: 0.0955 - accuracy: 0.9691 - val_loss: 0.0859 - val_accuracy: 0.9717\n",
      "\n",
      "Epoch 00003: val_accuracy improved from 0.94466 to 0.97169, saving model to VGG_CNN__ternary_model.h5\n",
      "Epoch 4/5\n",
      "97/97 [==============================] - 46s 476ms/step - loss: 0.0608 - accuracy: 0.9793 - val_loss: 0.0836 - val_accuracy: 0.9704\n",
      "\n",
      "Epoch 00004: val_accuracy did not improve from 0.97169\n",
      "Epoch 5/5\n",
      "97/97 [==============================] - 46s 471ms/step - loss: 0.0584 - accuracy: 0.9833 - val_loss: 0.0976 - val_accuracy: 0.9704\n",
      "\n",
      "Epoch 00005: val_accuracy did not improve from 0.97169\n"
     ]
    }
   ],
   "source": [
    "history = modelV1.fit_generator(train_generator,\n",
    "                         steps_per_epoch = (train_generator.samples//32),\n",
    "                         epochs = 5,\n",
    "                         validation_data = validation_generator,\n",
    "                         validation_steps = (validation_generator.samples/32),\n",
    "                         callbacks=[checkpoint],\n",
    "                         verbose = 1)"
   ]
  },
  {
   "cell_type": "markdown",
   "metadata": {
    "id": "oZAsENgYpwpL"
   },
   "source": [
    "\n",
    "## Accuracy of VGG_TERNARY Model"
   ]
  },
  {
   "cell_type": "code",
   "execution_count": null,
   "metadata": {
    "colab": {
     "base_uri": "https://localhost:8080/"
    },
    "id": "2-N2QjvLpsW6",
    "outputId": "0d9a5b14-ac0c-47ae-a454-3eb631a1631b"
   },
   "outputs": [
    {
     "name": "stdout",
     "output_type": "stream",
     "text": [
      "25/25 [==============================] - 10s 406ms/step - loss: 0.0976 - accuracy: 0.9704\n",
      "Accuracy: 97.04\n"
     ]
    }
   ],
   "source": [
    "accuracy = modelV1.evaluate(validation_generator,verbose=1)\n",
    "print('Accuracy: %.2f' % (accuracy[1]*100))"
   ]
  },
  {
   "cell_type": "code",
   "execution_count": null,
   "metadata": {
    "id": "bvgutF8ceI11"
   },
   "outputs": [],
   "source": [
    "!cp -r \"/content/VGG_CNN__ternary_model.h5\" \"/content/drive/MyDrive/Model\""
   ]
  },
  {
   "cell_type": "markdown",
   "metadata": {
    "id": "_uYZn9csGS7-"
   },
   "source": [
    "### VGG_ACCURACY GRAPH"
   ]
  },
  {
   "cell_type": "code",
   "execution_count": null,
   "metadata": {
    "colab": {
     "base_uri": "https://localhost:8080/",
     "height": 281
    },
    "id": "PUUZyXDHwbIg",
    "outputId": "88b510cb-f12e-4b20-83ce-56cca95b0756"
   },
   "outputs": [
    {
     "data": {
      "image/png": "[encoded data removed]",
      "text/plain": [
       "<Figure size 432x288 with 1 Axes>"
      ]
     },
     "metadata": {
      "needs_background": "light",
      "tags": []
     },
     "output_type": "display_data"
    }
   ],
   "source": [
    "\n",
    "pyplot.title('Classification Accuracy')\n",
    "pyplot.plot(history.history['accuracy'], color='blue', label='train')\n",
    "pyplot.plot(history.history['val_accuracy'], color='orange', label='test')\n",
    "pyplot.legend()\n",
    "pyplot.savefig('accuracy2.png',dpi=300)"
   ]
  },
  {
   "cell_type": "markdown",
   "metadata": {
    "id": "eTjrT4IcGYSh"
   },
   "source": [
    "## COMPARISON OF VGG AND CUSTOM MODEL ACCURACY"
   ]
  },
  {
   "cell_type": "code",
   "execution_count": null,
   "metadata": {
    "colab": {
     "base_uri": "https://localhost:8080/",
     "height": 265
    },
    "id": "Ft22ZJwy2hTS",
    "outputId": "e47ef2fb-0a30-4735-e7a2-78ad4466fb31"
   },
   "outputs": [
    {
     "data": {
      "image/png": "[encoded data removed]",
      "text/plain": [
       "<Figure size 432x288 with 1 Axes>"
      ]
     },
     "metadata": {
      "needs_background": "light",
      "tags": []
     },
     "output_type": "display_data"
    }
   ],
   "source": [
    "pyplot.plot(history.history['val_accuracy'], color='orange', label='VGG_test')\n",
    "pyplot.plot(hist.history['val_accuracy'], color='green', label='Custom_test')\n",
    "pyplot.legend()\n",
    "pyplot.savefig('accuracy_together.png',dpi=300)"
   ]
  },
  {
   "cell_type": "code",
   "execution_count": null,
   "metadata": {
    "id": "wvpgFfJcrkAi"
   },
   "outputs": [],
   "source": [
    "!cp -r \"/content/accuracy_together.png\" \"/content/drive/MyDrive/Model\""
   ]
  },
  {
   "cell_type": "markdown",
   "metadata": {
    "id": "L5l8svGk4FcO"
   },
   "source": [
    "## Creating Binary Model"
   ]
  },
  {
   "cell_type": "code",
   "execution_count": null,
   "metadata": {
    "id": "7kkiIOMcEnjA"
   },
   "outputs": [],
   "source": [
    "checkpoint =ModelCheckpoint(filepath=\"Custom_CNN__binary_model.h5\", \n",
    "                            monitor='val_accuracy',\n",
    "                            verbose=1,\n",
    "                            save_best_only=True, \n",
    "                            save_weights_only=False, \n",
    "                            mode='auto',\n",
    "                            save_freq='epoch')\n",
    "\n",
    "callbacks = [checkpoint]"
   ]
  },
  {
   "cell_type": "code",
   "execution_count": null,
   "metadata": {
    "id": "fufsptdg3nWp"
   },
   "outputs": [],
   "source": [
    "model2 = Sequential()\n",
    "model2.add(Conv2D(32, (3, 3), input_shape = (224, 224, 3), activation = 'relu'))\n",
    "model2.add(MaxPooling2D(pool_size = (2, 2)))\n",
    " \n",
    "model2.add(Conv2D(64, (3, 3),activation = 'relu'))\n",
    "model2.add(MaxPooling2D(pool_size = (2, 2)))\n",
    " \n",
    "model2.add(Conv2D(128, (3, 3),activation = 'relu'))\n",
    "model2.add(MaxPooling2D(pool_size = (2, 2)))\n",
    " \n",
    "model2.add(Conv2D(256, (3, 3),activation = 'relu'))\n",
    "model2.add(MaxPooling2D(pool_size = (2, 2)))\n",
    " \n",
    "model2.add(Conv2D(512, (3, 3),activation = 'relu'))\n",
    "model2.add(MaxPooling2D(pool_size = (2, 2)))\n",
    " \n",
    "model2.add(Flatten())\n",
    "model2.add(Dense(128, activation = 'relu'))\n",
    "model2.add(Dense(64, activation = 'relu'))\n",
    "model2.add(Dense(32, activation = 'relu'))\n",
    "model2.add(Dense(1, activation='sigmoid'))\n",
    " \n",
    "model2.compile(optimizer = 'adam', loss = 'binary_crossentropy', metrics = ['accuracy'])\n",
    "\n"
   ]
  },
  {
   "cell_type": "code",
   "execution_count": null,
   "metadata": {
    "colab": {
     "base_uri": "https://localhost:8080/"
    },
    "id": "odxo8ix15qC1",
    "outputId": "d1c94793-b5b7-4dba-dca3-41e4c2345879"
   },
   "outputs": [
    {
     "name": "stdout",
     "output_type": "stream",
     "text": [
      "Model: \"sequential\"\n",
      "_________________________________________________________________\n",
      "Layer (type)                 Output Shape              Param #   \n",
      "=================================================================\n",
      "conv2d (Conv2D)              (None, 222, 222, 32)      896       \n",
      "_________________________________________________________________\n",
      "max_pooling2d (MaxPooling2D) (None, 111, 111, 32)      0         \n",
      "_________________________________________________________________\n",
      "conv2d_1 (Conv2D)            (None, 109, 109, 64)      18496     \n",
      "_________________________________________________________________\n",
      "max_pooling2d_1 (MaxPooling2 (None, 54, 54, 64)        0         \n",
      "_________________________________________________________________\n",
      "conv2d_2 (Conv2D)            (None, 52, 52, 128)       73856     \n",
      "_________________________________________________________________\n",
      "max_pooling2d_2 (MaxPooling2 (None, 26, 26, 128)       0         \n",
      "_________________________________________________________________\n",
      "conv2d_3 (Conv2D)            (None, 24, 24, 256)       295168    \n",
      "_________________________________________________________________\n",
      "max_pooling2d_3 (MaxPooling2 (None, 12, 12, 256)       0         \n",
      "_________________________________________________________________\n",
      "conv2d_4 (Conv2D)            (None, 10, 10, 512)       1180160   \n",
      "_________________________________________________________________\n",
      "max_pooling2d_4 (MaxPooling2 (None, 5, 5, 512)         0         \n",
      "_________________________________________________________________\n",
      "flatten (Flatten)            (None, 12800)             0         \n",
      "_________________________________________________________________\n",
      "dense (Dense)                (None, 128)               1638528   \n",
      "_________________________________________________________________\n",
      "dense_1 (Dense)              (None, 64)                8256      \n",
      "_________________________________________________________________\n",
      "dense_2 (Dense)              (None, 32)                2080      \n",
      "_________________________________________________________________\n",
      "dense_3 (Dense)              (None, 1)                 33        \n",
      "=================================================================\n",
      "Total params: 3,217,473\n",
      "Trainable params: 3,217,473\n",
      "Non-trainable params: 0\n",
      "_________________________________________________________________\n"
     ]
    }
   ],
   "source": [
    "model2.summary()"
   ]
  },
  {
   "cell_type": "code",
   "execution_count": null,
   "metadata": {
    "colab": {
     "base_uri": "https://localhost:8080/"
    },
    "id": "otBglnb75tPV",
    "outputId": "992f549d-e3b2-4b42-ee92-96cf456ea4bd"
   },
   "outputs": [
    {
     "name": "stdout",
     "output_type": "stream",
     "text": [
      "Found 2033 images belonging to 2 classes.\n",
      "Found 508 images belonging to 2 classes.\n"
     ]
    }
   ],
   "source": [
    "\n",
    "base =r'/content/Binary1'\n",
    "\n",
    "data= ImageDataGenerator(rescale=1./255,validation_split=0.2)\n",
    "\n",
    "\n",
    "train = data.flow_from_directory(\n",
    "              base,  # This is the source directory for training images\n",
    "              target_size=(224, 224),  \n",
    "              batch_size=32,\n",
    "              subset='training',\n",
    "              class_mode='binary')\n",
    "\n",
    "\n",
    "val = data.flow_from_directory(\n",
    "              base,\n",
    "              target_size=(224,224),\n",
    "              batch_size=32,\n",
    "              subset='validation',\n",
    "              shuffle=False,\n",
    "              class_mode='binary')"
   ]
  },
  {
   "cell_type": "code",
   "execution_count": null,
   "metadata": {
    "colab": {
     "base_uri": "https://localhost:8080/"
    },
    "id": "XnSNcHKR6MF1",
    "outputId": "13fb35ee-99cd-4613-f414-2034556baba8"
   },
   "outputs": [
    {
     "name": "stderr",
     "output_type": "stream",
     "text": [
      "/usr/local/lib/python3.6/dist-packages/tensorflow/python/keras/engine/training.py:1844: UserWarning: `Model.fit_generator` is deprecated and will be removed in a future version. Please use `Model.fit`, which supports generators.\n",
      "  warnings.warn('`Model.fit_generator` is deprecated and '\n"
     ]
    },
    {
     "name": "stdout",
     "output_type": "stream",
     "text": [
      "Epoch 1/5\n",
      "63/63 [==============================] - 22s 334ms/step - loss: 0.5981 - accuracy: 0.6545 - val_loss: 0.2518 - val_accuracy: 0.9547\n",
      "\n",
      "Epoch 00001: val_accuracy improved from -inf to 0.95472, saving model to Custom_CNN__binary_model.h5\n",
      "Epoch 2/5\n",
      "63/63 [==============================] - 20s 326ms/step - loss: 0.1167 - accuracy: 0.9723 - val_loss: 0.1171 - val_accuracy: 0.9665\n",
      "\n",
      "Epoch 00002: val_accuracy improved from 0.95472 to 0.96654, saving model to Custom_CNN__binary_model.h5\n",
      "Epoch 3/5\n",
      "63/63 [==============================] - 21s 326ms/step - loss: 0.0377 - accuracy: 0.9891 - val_loss: 0.0625 - val_accuracy: 0.9803\n",
      "\n",
      "Epoch 00003: val_accuracy improved from 0.96654 to 0.98031, saving model to Custom_CNN__binary_model.h5\n",
      "Epoch 4/5\n",
      "63/63 [==============================] - 21s 328ms/step - loss: 0.0517 - accuracy: 0.9821 - val_loss: 0.0578 - val_accuracy: 0.9862\n",
      "\n",
      "Epoch 00004: val_accuracy improved from 0.98031 to 0.98622, saving model to Custom_CNN__binary_model.h5\n",
      "Epoch 5/5\n",
      "63/63 [==============================] - 21s 326ms/step - loss: 0.0295 - accuracy: 0.9931 - val_loss: 0.0598 - val_accuracy: 0.9862\n",
      "\n",
      "Epoch 00005: val_accuracy did not improve from 0.98622\n"
     ]
    }
   ],
   "source": [
    "h = model2.fit_generator(train,\n",
    "                         steps_per_epoch = (train.samples//32),\n",
    "                         epochs = 5,\n",
    "                         validation_data = val,\n",
    "                         validation_steps = (val.samples/32),\n",
    "                         callbacks=[checkpoint],\n",
    "                         verbose = 1)"
   ]
  },
  {
   "cell_type": "markdown",
   "metadata": {
    "id": "n-2ejlif-Nt9"
   },
   "source": [
    "## Accuarcy of binary classification of Covid and Normal"
   ]
  },
  {
   "cell_type": "code",
   "execution_count": null,
   "metadata": {
    "colab": {
     "base_uri": "https://localhost:8080/"
    },
    "id": "VvKmQmXB9IQp",
    "outputId": "0fc985aa-776c-4de7-c6f1-e1e459d0b975"
   },
   "outputs": [
    {
     "name": "stdout",
     "output_type": "stream",
     "text": [
      "16/16 [==============================] - 5s 321ms/step - loss: 0.0598 - accuracy: 0.9862\n",
      "Accuracy: 98.62\n"
     ]
    }
   ],
   "source": [
    "acc = model2.evaluate(val,verbose=1)\n",
    "print('Accuracy: %.2f' % (acc[1]*100))"
   ]
  },
  {
   "cell_type": "code",
   "execution_count": null,
   "metadata": {
    "id": "eTYbGjPBF915"
   },
   "outputs": [],
   "source": [
    "!cp -r \"/content/Custom_CNN__binary_model.h5\" \"/content/drive/MyDrive/Model\""
   ]
  },
  {
   "cell_type": "markdown",
   "metadata": {
    "id": "XeXhKC1pGyzE"
   },
   "source": [
    "## ROC Curve of Binary classification of Covid and Normal"
   ]
  },
  {
   "cell_type": "code",
   "execution_count": null,
   "metadata": {
    "colab": {
     "base_uri": "https://localhost:8080/"
    },
    "id": "-pk46qYu03_C",
    "outputId": "2e3a69a1-b0a2-4180-9d8d-c34eaff59c97"
   },
   "outputs": [
    {
     "name": "stdout",
     "output_type": "stream",
     "text": [
      "16/16 [==============================] - 5s 322ms/step\n",
      "(508, 1)\n"
     ]
    }
   ],
   "source": [
    "import numpy as np\n",
    "y_pred= model2.predict(val,verbose=1)\n",
    "pred= np.round(y_pred)\n",
    "y= val.classes\n",
    "# y=np.expand_dims(y,axis=1)\n",
    "print(pred.shape)"
   ]
  },
  {
   "cell_type": "code",
   "execution_count": null,
   "metadata": {
    "colab": {
     "base_uri": "https://localhost:8080/"
    },
    "id": "AR68moAUBbCj",
    "outputId": "e371a3d6-5f13-46bf-9452-db725d8f12fb"
   },
   "outputs": [
    {
     "name": "stdout",
     "output_type": "stream",
     "text": [
      "0.9862204724409449\n"
     ]
    }
   ],
   "source": [
    "import sklearn.metrics as metrics\n",
    "print(metrics.accuracy_score(y,pred))"
   ]
  },
  {
   "cell_type": "code",
   "execution_count": null,
   "metadata": {
    "colab": {
     "base_uri": "https://localhost:8080/"
    },
    "id": "BbQVmC4-AdYZ",
    "outputId": "7a86ac9f-4d42-42b2-bcca-60c0b20558ec"
   },
   "outputs": [
    {
     "name": "stdout",
     "output_type": "stream",
     "text": [
      "[0.         0.01666667 1.        ]\n"
     ]
    }
   ],
   "source": [
    "import sklearn.metrics as metrics\n",
    "# calculate the fpr and tpr for all thresholds of the classification\n",
    "# probs = model.predict_proba(X_test)\n",
    "# preds = probs[:,1]\n",
    "fpr, tpr, threshold = metrics.roc_curve(y, pred)\n",
    "roc_auc = metrics.auc(fpr, tpr)\n",
    "print(fpr)"
   ]
  },
  {
   "cell_type": "code",
   "execution_count": null,
   "metadata": {
    "colab": {
     "base_uri": "https://localhost:8080/",
     "height": 295
    },
    "id": "77He4gNh005T",
    "outputId": "f81a1b92-10e1-436f-917e-6e8358ce2f92"
   },
   "outputs": [
    {
     "data": {
      "image/png": "[encoded data removed]",
      "text/plain": [
       "<Figure size 432x288 with 1 Axes>"
      ]
     },
     "metadata": {
      "needs_background": "light",
      "tags": []
     },
     "output_type": "display_data"
    }
   ],
   "source": [
    "\n",
    "\n",
    "# method I: plt\n",
    "import matplotlib.pyplot as plt\n",
    "# plt.title('Receiver Operating Characteristic')\n",
    "# plt.plot(fpr, tpr, 'b', label = 'AUC = %0.2f' % roc_auc)\n",
    "# plt.legend(loc = 'lower right')\n",
    "# plt.plot([0, 1], [0, 1],'r--')\n",
    "# plt.xlim([0, 1])\n",
    "# plt.ylim([0, 1])\n",
    "# plt.ylabel('True Positive Rate')\n",
    "# plt.xlabel('False Positive Rate')\n",
    "# plt.show()\n",
    "\n",
    "plt.figure(1)\n",
    "plt.plot([0, 1], [0, 1], 'k--')\n",
    "plt.plot(fpr, tpr, label='Keras (area = {:.3f})'.format(roc_auc))\n",
    "# plt.plot(fpr_rf, tpr_rf, label='RF (area = {:.3f})'.format(auc_rf))\n",
    "plt.xlabel('False positive rate')\n",
    "plt.ylabel('True positive rate')\n",
    "plt.title('ROC curve')\n",
    "plt.legend(loc='best')\n",
    "plt.savefig('Custom_binary.png',dpi=300)\n",
    "plt.show()\n"
   ]
  },
  {
   "cell_type": "code",
   "execution_count": null,
   "metadata": {
    "id": "cubQ1FbtH_6j"
   },
   "outputs": [],
   "source": [
    "!cp -r \"/content/Custom_binary.png\" \"/content/drive/MyDrive/Model\""
   ]
  },
  {
   "cell_type": "markdown",
   "metadata": {
    "id": "B2HcIHGJSHQ4"
   },
   "source": [
    "## VGG Model for Binary Classification"
   ]
  },
  {
   "cell_type": "code",
   "execution_count": null,
   "metadata": {
    "id": "fqZamUgOStSE"
   },
   "outputs": [],
   "source": [
    "checkpoint =ModelCheckpoint(filepath=\"VGG_CNN__binary_model.h5\", \n",
    "                            monitor='val_accuracy',\n",
    "                            verbose=1,\n",
    "                            save_best_only=True, \n",
    "                            save_weights_only=False, \n",
    "                            mode='auto',\n",
    "                            save_freq='epoch')\n",
    "\n",
    "callbacks = [checkpoint]"
   ]
  },
  {
   "cell_type": "code",
   "execution_count": null,
   "metadata": {
    "id": "a-A6JRaGpqlo"
   },
   "outputs": [],
   "source": [
    "from keras.layers import Dropout\n",
    "from keras.applications import VGG16\n",
    "VGG = VGG16(input_shape=(224,224,3),include_top=False,weights = 'imagenet')\n",
    "VGG.trainable = False\n",
    "\n",
    "modelV2 = Sequential()\n",
    "modelV2.add(VGG)\n",
    "modelV2.add(Flatten())\n",
    "modelV2.add(Dense(128, activation = 'relu'))\n",
    "modelV2.add(Dense(64, activation = 'relu'))\n",
    "modelV2.add(Dropout(0.3))\n",
    "modelV2.add(Dense(32, activation = 'relu'))\n",
    "modelV2.add(Dense(1, activation='sigmoid'))\n",
    "\n",
    "modelV2.compile(optimizer = 'adam', loss = 'binary_crossentropy', metrics = ['accuracy'])"
   ]
  },
  {
   "cell_type": "code",
   "execution_count": null,
   "metadata": {
    "colab": {
     "base_uri": "https://localhost:8080/"
    },
    "id": "cdqpJMjXscyD",
    "outputId": "864aa722-4c88-4696-ffc1-b61a42836fe4"
   },
   "outputs": [
    {
     "name": "stdout",
     "output_type": "stream",
     "text": [
      "Model: \"sequential_2\"\n",
      "_________________________________________________________________\n",
      "Layer (type)                 Output Shape              Param #   \n",
      "=================================================================\n",
      "vgg16 (Functional)           (None, 7, 7, 512)         14714688  \n",
      "_________________________________________________________________\n",
      "flatten_2 (Flatten)          (None, 25088)             0         \n",
      "_________________________________________________________________\n",
      "dense_8 (Dense)              (None, 128)               3211392   \n",
      "_________________________________________________________________\n",
      "dense_9 (Dense)              (None, 64)                8256      \n",
      "_________________________________________________________________\n",
      "dropout (Dropout)            (None, 64)                0         \n",
      "_________________________________________________________________\n",
      "dense_10 (Dense)             (None, 32)                2080      \n",
      "_________________________________________________________________\n",
      "dense_11 (Dense)             (None, 1)                 33        \n",
      "=================================================================\n",
      "Total params: 17,936,449\n",
      "Trainable params: 3,221,761\n",
      "Non-trainable params: 14,714,688\n",
      "_________________________________________________________________\n"
     ]
    }
   ],
   "source": [
    "modelV2.summary()"
   ]
  },
  {
   "cell_type": "code",
   "execution_count": null,
   "metadata": {
    "colab": {
     "base_uri": "https://localhost:8080/"
    },
    "id": "EIpdYEj-pLN2",
    "outputId": "2ec48432-d987-4f70-d214-1459062656b1"
   },
   "outputs": [
    {
     "name": "stderr",
     "output_type": "stream",
     "text": [
      "/usr/local/lib/python3.6/dist-packages/tensorflow/python/keras/engine/training.py:1844: UserWarning: `Model.fit_generator` is deprecated and will be removed in a future version. Please use `Model.fit`, which supports generators.\n",
      "  warnings.warn('`Model.fit_generator` is deprecated and '\n"
     ]
    },
    {
     "name": "stdout",
     "output_type": "stream",
     "text": [
      "Epoch 1/5\n",
      "63/63 [==============================] - 24s 377ms/step - loss: 0.2513 - accuracy: 0.8512 - val_loss: 0.0156 - val_accuracy: 0.9961\n",
      "\n",
      "Epoch 00001: val_accuracy improved from -inf to 0.99606, saving model to VGG_CNN__binary_model.h5\n",
      "Epoch 2/5\n",
      "63/63 [==============================] - 22s 344ms/step - loss: 0.0148 - accuracy: 0.9965 - val_loss: 0.0093 - val_accuracy: 0.9941\n",
      "\n",
      "Epoch 00002: val_accuracy did not improve from 0.99606\n",
      "Epoch 3/5\n",
      "63/63 [==============================] - 22s 344ms/step - loss: 0.0135 - accuracy: 0.9952 - val_loss: 0.0028 - val_accuracy: 0.9980\n",
      "\n",
      "Epoch 00003: val_accuracy improved from 0.99606 to 0.99803, saving model to VGG_CNN__binary_model.h5\n",
      "Epoch 4/5\n",
      "63/63 [==============================] - 22s 346ms/step - loss: 0.0117 - accuracy: 0.9965 - val_loss: 0.0031 - val_accuracy: 0.9980\n",
      "\n",
      "Epoch 00004: val_accuracy did not improve from 0.99803\n",
      "Epoch 5/5\n",
      "63/63 [==============================] - 22s 345ms/step - loss: 7.8864e-04 - accuracy: 1.0000 - val_loss: 7.3994e-04 - val_accuracy: 1.0000\n",
      "\n",
      "Epoch 00005: val_accuracy improved from 0.99803 to 1.00000, saving model to VGG_CNN__binary_model.h5\n"
     ]
    }
   ],
   "source": [
    "bi = modelV2.fit_generator(train,\n",
    "                         steps_per_epoch = (train.samples//32),\n",
    "                         epochs = 5,\n",
    "                         validation_data = val,\n",
    "                         validation_steps = (val.samples/32),\n",
    "                         callbacks=[checkpoint],\n",
    "                         verbose = 1)"
   ]
  },
  {
   "cell_type": "markdown",
   "metadata": {
    "id": "jA85wTVeqohK"
   },
   "source": [
    "## Accuracy of VGG model in binary classification of Covid and Normal "
   ]
  },
  {
   "cell_type": "code",
   "execution_count": null,
   "metadata": {
    "colab": {
     "base_uri": "https://localhost:8080/"
    },
    "id": "cXJ2XojDSmXf",
    "outputId": "b22d3169-3425-4115-a0ba-18f573dca57c"
   },
   "outputs": [
    {
     "name": "stdout",
     "output_type": "stream",
     "text": [
      "16/16 [==============================] - 5s 343ms/step - loss: 7.3994e-04 - accuracy: 1.0000\n",
      "Accuracy: 100.00\n"
     ]
    }
   ],
   "source": [
    "bi = modelV2.evaluate(val,verbose=1)\n",
    "print('Accuracy: %.2f' % (bi[1]*100))"
   ]
  },
  {
   "cell_type": "code",
   "execution_count": null,
   "metadata": {
    "id": "TGk_XINBUsRg"
   },
   "outputs": [],
   "source": [
    "!cp -r \"/content/VGG_CNN__binary_model.h5\" \"/content/drive/MyDrive/Model\""
   ]
  },
  {
   "cell_type": "markdown",
   "metadata": {
    "id": "MsOo9PN8HH2q"
   },
   "source": [
    "## ROC Curve of VGG model in binary classification of Covid and Normal "
   ]
  },
  {
   "cell_type": "code",
   "execution_count": null,
   "metadata": {
    "colab": {
     "base_uri": "https://localhost:8080/"
    },
    "id": "sOfq0zITfH9z",
    "outputId": "c4b350b8-3570-4df0-944a-0ae84c5aa9c9"
   },
   "outputs": [
    {
     "name": "stderr",
     "output_type": "stream",
     "text": [
      "/usr/local/lib/python3.6/dist-packages/tensorflow/python/keras/engine/sequential.py:425: UserWarning: `model.predict_proba()` is deprecated and will be removed after 2021-01-01. Please use `model.predict()` instead.\n",
      "  warnings.warn('`model.predict_proba()` is deprecated and '\n"
     ]
    },
    {
     "name": "stdout",
     "output_type": "stream",
     "text": [
      "16/16 [==============================] - 6s 355ms/step\n"
     ]
    }
   ],
   "source": [
    "y_Vpred= modelV2.predict_proba(val,verbose=1)\n"
   ]
  },
  {
   "cell_type": "code",
   "execution_count": null,
   "metadata": {
    "colab": {
     "base_uri": "https://localhost:8080/"
    },
    "id": "wo282celJr2h",
    "outputId": "8c4871aa-9b43-4231-bb11-d35ff53f7598"
   },
   "outputs": [
    {
     "name": "stdout",
     "output_type": "stream",
     "text": [
      "(508, 1)\n"
     ]
    }
   ],
   "source": [
    "Vpred= np.round(y_Vpred)\n",
    "y_V= val.classes\n",
    "# y=np.expand_dims(y,axis=1)\n",
    "print(Vpred.shape)"
   ]
  },
  {
   "cell_type": "code",
   "execution_count": null,
   "metadata": {
    "id": "XDiaBRgFD5Lp"
   },
   "outputs": [],
   "source": [
    "# def prediction(pred):\n",
    "#   y_pred=[]\n",
    "\n",
    "#   for i in pred:\n",
    "#     if i>0.5:\n",
    "#       y_pred.append(1)\n",
    "#     else:\n",
    "#       y_pred.append(0)\n",
    "#   return y_pred\n",
    "    \n",
    "\n",
    "# f_pred= prediction(y_Vpred)"
   ]
  },
  {
   "cell_type": "code",
   "execution_count": null,
   "metadata": {
    "colab": {
     "base_uri": "https://localhost:8080/"
    },
    "id": "xqMYvkUeDalL",
    "outputId": "1a0dea54-792f-4ce7-d2ff-97f453f7d081"
   },
   "outputs": [
    {
     "name": "stdout",
     "output_type": "stream",
     "text": [
      "1.0\n"
     ]
    }
   ],
   "source": [
    "import sklearn.metrics as metrics\n",
    "print(metrics.accuracy_score(y_V,Vpred))"
   ]
  },
  {
   "cell_type": "code",
   "execution_count": null,
   "metadata": {
    "colab": {
     "base_uri": "https://localhost:8080/",
     "height": 295
    },
    "id": "e6_YyVGPfJNI",
    "outputId": "0f1d576f-c2a2-47d1-805c-9a3d6973fcbc"
   },
   "outputs": [
    {
     "data": {
      "image/png": "[encoded data removed]",
      "text/plain": [
       "<Figure size 432x288 with 1 Axes>"
      ]
     },
     "metadata": {
      "needs_background": "light",
      "tags": []
     },
     "output_type": "display_data"
    }
   ],
   "source": [
    "\n",
    "fprV, tprV, thresholdV = metrics.roc_curve(y_V, Vpred)\n",
    "roc_auc2 = metrics.auc(fprV, tprV)\n",
    "\n",
    "# method I: plt\n",
    "\n",
    "# plt.title('Receiver Operating Characteristic')\n",
    "# plt.plot(fpr, tpr, 'b', label = 'AUC = %0.2f' % roc_auc)\n",
    "# plt.legend(loc = 'lower right')\n",
    "# plt.plot([0, 1], [0, 1],'r--')\n",
    "# plt.xlim([0, 1])\n",
    "# plt.ylim([0, 1])\n",
    "# plt.ylabel('True Positive Rate')\n",
    "# plt.xlabel('False Positive Rate')\n",
    "# plt.show()\n",
    "\n",
    "plt.figure(1)\n",
    "plt.plot([0, 1], [0, 1], 'k--')\n",
    "plt.plot(fprV, tprV, label='Keras (area = {:.3f})'.format(roc_auc2))\n",
    "# plt.plot(fpr_rf, tpr_rf, label='RF (area = {:.3f})'.format(auc_rf))\n",
    "plt.xlabel('False positive rate')\n",
    "plt.ylabel('True positive rate')\n",
    "plt.title('ROC curve')\n",
    "plt.legend(loc='best')\n",
    "plt.savefig('VGG_binary',dpi=300)\n",
    "plt.show()"
   ]
  },
  {
   "cell_type": "code",
   "execution_count": null,
   "metadata": {
    "id": "QR31wQujI7wS"
   },
   "outputs": [],
   "source": [
    "!cp -r \"/content/VGG_binary.png\" \"/content/drive/MyDrive/Model\""
   ]
  },
  {
   "cell_type": "markdown",
   "metadata": {
    "id": "PB9658ePHQuQ"
   },
   "source": [
    "## Comaprison of VGG and Custom binary model in classification of Covid and Normal"
   ]
  },
  {
   "cell_type": "code",
   "execution_count": null,
   "metadata": {
    "colab": {
     "base_uri": "https://localhost:8080/",
     "height": 573
    },
    "id": "tEgvrzDFI_W6",
    "outputId": "86978c87-db72-4656-cb4f-eb01b34e785e"
   },
   "outputs": [
    {
     "data": {
      "image/png": "[encoded data removed]",
      "text/plain": [
       "<Figure size 432x288 with 1 Axes>"
      ]
     },
     "metadata": {
      "needs_background": "light",
      "tags": []
     },
     "output_type": "display_data"
    },
    {
     "data": {
      "image/png": "[encoded data removed]",
      "text/plain": [
       "<Figure size 432x288 with 1 Axes>"
      ]
     },
     "metadata": {
      "needs_background": "light",
      "tags": []
     },
     "output_type": "display_data"
    }
   ],
   "source": [
    "plt.figure(1)\n",
    "plt.plot([0, 1], [0, 1], 'k--')\n",
    "plt.plot(fprV, tprV, label='VGG (area = {:.3f})'.format(roc_auc2))\n",
    "plt.plot(fpr, tpr, label='Custom (area = {:.3f})'.format(roc_auc))\n",
    "plt.xlabel('False positive rate')\n",
    "plt.ylabel('True positive rate')\n",
    "plt.title('ROC curve')\n",
    "plt.legend(loc='best')\n",
    "plt.savefig('VGG_Custom_both',dpi=300)\n",
    "plt.show()\n",
    "\n",
    "plt.figure(2)\n",
    "plt.xlim(0, 0.2)\n",
    "plt.ylim(0.8, 1.03)\n",
    "plt.plot([0, 1], [0, 1], 'k--')\n",
    "plt.plot(fprV, tprV, label='VGG (area = {:.3f})'.format(roc_auc2))\n",
    "plt.plot(fpr, tpr, label='Custom (area = {:.3f})'.format(roc_auc))\n",
    "plt.xlabel('False positive rate')\n",
    "plt.ylabel('True positive rate')\n",
    "plt.title('ROC curve (zoomed in at top left)')\n",
    "plt.legend(loc='best')\n",
    "plt.savefig('VGG_Custom_zoomed',dpi=300)\n",
    "plt.show()"
   ]
  },
  {
   "cell_type": "code",
   "execution_count": null,
   "metadata": {
    "id": "nZbZn5TuJTvX"
   },
   "outputs": [],
   "source": [
    "!cp -r \"/content/VGG_Custom_zoomed.png\" \"/content/drive/MyDrive/Model\""
   ]
  },
  {
   "cell_type": "markdown",
   "metadata": {
    "id": "RO_MWEmPHgsz"
   },
   "source": [
    "## Applying Custom Binary Model to Covid and Pneumonia"
   ]
  },
  {
   "cell_type": "code",
   "execution_count": null,
   "metadata": {
    "colab": {
     "base_uri": "https://localhost:8080/"
    },
    "id": "pG-SElrR9bdt",
    "outputId": "e48c5418-a254-494c-d177-058d7771186a"
   },
   "outputs": [
    {
     "name": "stdout",
     "output_type": "stream",
     "text": [
      "Found 2036 images belonging to 2 classes.\n",
      "Found 509 images belonging to 2 classes.\n"
     ]
    }
   ],
   "source": [
    "b =r'/content/Binary2'\n",
    "\n",
    "dat= ImageDataGenerator(rescale=1./255,validation_split=0.2)\n",
    "\n",
    "\n",
    "tr = dat.flow_from_directory(\n",
    "              b,  # This is the source directory for training images\n",
    "              target_size=(224, 224),  \n",
    "              batch_size=32,\n",
    "              subset='training',\n",
    "              class_mode='binary')\n",
    "\n",
    "\n",
    "va = dat.flow_from_directory(\n",
    "              b,\n",
    "              target_size=(224,224),\n",
    "              batch_size=32,\n",
    "              subset='validation',\n",
    "              shuffle = False,\n",
    "              class_mode='binary')"
   ]
  },
  {
   "cell_type": "code",
   "execution_count": null,
   "metadata": {
    "id": "oZRBDTc5LbjR"
   },
   "outputs": [],
   "source": [
    "checkpoint =ModelCheckpoint(filepath=\"Custom_CNN__binary_model_Pneumonia.h5\", \n",
    "                            monitor='val_accuracy',\n",
    "                            verbose=1,\n",
    "                            save_best_only=True, \n",
    "                            save_weights_only=False, \n",
    "                            mode='auto',\n",
    "                            save_freq='epoch')\n",
    "\n",
    "callbacks = [checkpoint]"
   ]
  },
  {
   "cell_type": "code",
   "execution_count": null,
   "metadata": {
    "colab": {
     "base_uri": "https://localhost:8080/"
    },
    "id": "wyQO4oTf97Rf",
    "outputId": "171abed1-272b-43e3-8c64-3e09486c7ce0"
   },
   "outputs": [
    {
     "name": "stderr",
     "output_type": "stream",
     "text": [
      "/usr/local/lib/python3.6/dist-packages/tensorflow/python/keras/engine/training.py:1844: UserWarning: `Model.fit_generator` is deprecated and will be removed in a future version. Please use `Model.fit`, which supports generators.\n",
      "  warnings.warn('`Model.fit_generator` is deprecated and '\n"
     ]
    },
    {
     "name": "stdout",
     "output_type": "stream",
     "text": [
      "Epoch 1/5\n",
      "63/63 [==============================] - 28s 451ms/step - loss: 0.1435 - accuracy: 0.9511 - val_loss: 0.1031 - val_accuracy: 0.9784\n",
      "\n",
      "Epoch 00001: val_accuracy improved from -inf to 0.97839, saving model to Custom_CNN__binary_model_Pneumonia.h5\n",
      "Epoch 2/5\n",
      "63/63 [==============================] - 28s 440ms/step - loss: 0.0790 - accuracy: 0.9746 - val_loss: 0.1670 - val_accuracy: 0.9607\n",
      "\n",
      "Epoch 00002: val_accuracy did not improve from 0.97839\n",
      "Epoch 3/5\n",
      "63/63 [==============================] - 28s 447ms/step - loss: 0.0635 - accuracy: 0.9785 - val_loss: 0.1644 - val_accuracy: 0.9705\n",
      "\n",
      "Epoch 00003: val_accuracy did not improve from 0.97839\n",
      "Epoch 4/5\n",
      "63/63 [==============================] - 28s 447ms/step - loss: 0.0574 - accuracy: 0.9800 - val_loss: 0.1644 - val_accuracy: 0.9646\n",
      "\n",
      "Epoch 00004: val_accuracy did not improve from 0.97839\n",
      "Epoch 5/5\n",
      "63/63 [==============================] - 28s 448ms/step - loss: 0.0482 - accuracy: 0.9860 - val_loss: 0.1090 - val_accuracy: 0.9725\n",
      "\n",
      "Epoch 00005: val_accuracy did not improve from 0.97839\n"
     ]
    }
   ],
   "source": [
    "histo = model2.fit_generator(tr,\n",
    "                         steps_per_epoch = (tr.samples//32),\n",
    "                         epochs = 5,\n",
    "                         validation_data = va,\n",
    "                         validation_steps = (va.samples/32),\n",
    "                         callbacks = [checkpoint],\n",
    "                         verbose=1 )"
   ]
  },
  {
   "cell_type": "markdown",
   "metadata": {
    "id": "_7hQnE8gBTaN"
   },
   "source": [
    "## Accuracy of binary classification of Covid and Viral Pneunomia"
   ]
  },
  {
   "cell_type": "code",
   "execution_count": null,
   "metadata": {
    "colab": {
     "base_uri": "https://localhost:8080/"
    },
    "id": "bt9dogu-AcPL",
    "outputId": "33f9b561-db1d-4296-aa88-bafa1112ed66"
   },
   "outputs": [
    {
     "name": "stdout",
     "output_type": "stream",
     "text": [
      "16/16 [==============================] - 6s 417ms/step - loss: 0.1090 - accuracy: 0.9725\n",
      "Accuracy: 97.25\n"
     ]
    }
   ],
   "source": [
    "a = model2.evaluate(va,verbose=1)\n",
    "print('Accuracy: %.2f' % (a[1]*100))"
   ]
  },
  {
   "cell_type": "code",
   "execution_count": null,
   "metadata": {
    "id": "0gVJBVTCL33K"
   },
   "outputs": [],
   "source": [
    "!cp -r \"/content/Custom_CNN__binary_model_Pneumonia.h5\" \"/content/drive/MyDrive/Model\""
   ]
  },
  {
   "cell_type": "markdown",
   "metadata": {
    "id": "HIIZgUO-HvFl"
   },
   "source": [
    "## ROC Curve in binary classification of Covid and Viral Pneumonia"
   ]
  },
  {
   "cell_type": "code",
   "execution_count": null,
   "metadata": {
    "colab": {
     "base_uri": "https://localhost:8080/"
    },
    "id": "qy_p75AKE2cy",
    "outputId": "99ea28c6-9b36-40dd-a51d-867fdbd2e2fc"
   },
   "outputs": [
    {
     "name": "stdout",
     "output_type": "stream",
     "text": [
      "16/16 [==============================] - 6s 414ms/step\n"
     ]
    }
   ],
   "source": [
    "import numpy as np\n",
    "y_pred2= model2.predict(va,verbose=1)\n"
   ]
  },
  {
   "cell_type": "code",
   "execution_count": null,
   "metadata": {
    "colab": {
     "base_uri": "https://localhost:8080/"
    },
    "id": "GASwHilgNSrA",
    "outputId": "c6b6b0b2-e78e-4d75-fd40-d37848f00aa5"
   },
   "outputs": [
    {
     "name": "stdout",
     "output_type": "stream",
     "text": [
      "(509, 1)\n"
     ]
    }
   ],
   "source": [
    "pred2= np.round(y_pred2)\n",
    "y2= va.classes\n",
    "# y=np.expand_dims(y,axis=1)\n",
    "print(pred2.shape)"
   ]
  },
  {
   "cell_type": "code",
   "execution_count": null,
   "metadata": {
    "colab": {
     "base_uri": "https://localhost:8080/"
    },
    "id": "RPokQ-leLMhb",
    "outputId": "98e6e688-2603-41ff-8d1d-fcebb4715f67"
   },
   "outputs": [
    {
     "name": "stdout",
     "output_type": "stream",
     "text": [
      "0.9724950884086444\n"
     ]
    }
   ],
   "source": [
    "import sklearn.metrics as metrics\n",
    "print(metrics.accuracy_score(y2,pred2))"
   ]
  },
  {
   "cell_type": "code",
   "execution_count": null,
   "metadata": {
    "colab": {
     "base_uri": "https://localhost:8080/"
    },
    "id": "p4naRqQXKatO",
    "outputId": "358d4115-6b7d-4b43-d565-cb3d6066bb93"
   },
   "outputs": [
    {
     "name": "stdout",
     "output_type": "stream",
     "text": [
      "[0.         0.05833333 1.        ]\n"
     ]
    }
   ],
   "source": [
    "import sklearn.metrics as metrics\n",
    "# calculate the fpr and tpr for all thresholds of the classification\n",
    "# probs = model.predict_proba(X_test)\n",
    "# preds = probs[:,1]\n",
    "fpr, tpr, threshold = metrics.roc_curve(y2, pred2)\n",
    "roc_auc = metrics.auc(fpr, tpr)\n",
    "print(fpr)"
   ]
  },
  {
   "cell_type": "code",
   "execution_count": null,
   "metadata": {
    "colab": {
     "base_uri": "https://localhost:8080/",
     "height": 295
    },
    "id": "m94y8keVKsPo",
    "outputId": "89581c5c-c1cb-43ca-b6d0-45a8935479da"
   },
   "outputs": [
    {
     "data": {
      "image/png": "[encoded data removed]",
      "text/plain": [
       "<Figure size 432x288 with 1 Axes>"
      ]
     },
     "metadata": {
      "needs_background": "light",
      "tags": []
     },
     "output_type": "display_data"
    }
   ],
   "source": [
    "import matplotlib.pyplot as plt\n",
    "plt.figure(1)\n",
    "plt.plot([0, 1], [0, 1], 'k--')\n",
    "plt.plot(fpr, tpr, label='Keras (area = {:.3f})'.format(roc_auc))\n",
    "# plt.plot(fpr_rf, tpr_rf, label='RF (area = {:.3f})'.format(auc_rf))\n",
    "plt.xlabel('False positive rate')\n",
    "plt.ylabel('True positive rate')\n",
    "plt.title('ROC curve')\n",
    "plt.legend(loc='best')\n",
    "plt.savefig('Custom_binary_Pneumonia.png',dpi=300)\n",
    "plt.show()"
   ]
  },
  {
   "cell_type": "code",
   "execution_count": null,
   "metadata": {
    "id": "co65r-94qP-K"
   },
   "outputs": [],
   "source": [
    "!cp -r \"/content/Custom_binary_Pneumonia.png\" \"/content/drive/MyDrive/Model\""
   ]
  },
  {
   "cell_type": "markdown",
   "metadata": {
    "id": "EJ5wJEb3H5Mo"
   },
   "source": [
    "## Applying VGG Binary model to Covid and Pneumonia"
   ]
  },
  {
   "cell_type": "code",
   "execution_count": null,
   "metadata": {
    "id": "PUgpJJWCJ8nN"
   },
   "outputs": [],
   "source": [
    "checkpoint =ModelCheckpoint(filepath=\"VGG_CNN__binary_model_Pneumonia.h5\", \n",
    "                            monitor='val_accuracy',\n",
    "                            verbose=1,\n",
    "                            save_best_only=True, \n",
    "                            save_weights_only=False, \n",
    "                            mode='auto',\n",
    "                            save_freq='epoch')\n",
    "\n",
    "callbacks = [checkpoint]"
   ]
  },
  {
   "cell_type": "code",
   "execution_count": null,
   "metadata": {
    "colab": {
     "base_uri": "https://localhost:8080/"
    },
    "id": "I_KVfClOrIc6",
    "outputId": "f985e000-4d9f-4a5a-8462-e51a0ff9f077"
   },
   "outputs": [
    {
     "name": "stderr",
     "output_type": "stream",
     "text": [
      "/usr/local/lib/python3.6/dist-packages/tensorflow/python/keras/engine/training.py:1844: UserWarning: `Model.fit_generator` is deprecated and will be removed in a future version. Please use `Model.fit`, which supports generators.\n",
      "  warnings.warn('`Model.fit_generator` is deprecated and '\n"
     ]
    },
    {
     "name": "stdout",
     "output_type": "stream",
     "text": [
      "Epoch 1/5\n",
      "63/63 [==============================] - 35s 494ms/step - loss: 0.4052 - accuracy: 0.7858 - val_loss: 0.0237 - val_accuracy: 0.9902\n",
      "\n",
      "Epoch 00001: val_accuracy improved from -inf to 0.99018, saving model to VGG_CNN__binary_model_Pneumonia.h5\n",
      "Epoch 2/5\n",
      "63/63 [==============================] - 29s 464ms/step - loss: 0.0513 - accuracy: 0.9863 - val_loss: 0.0214 - val_accuracy: 0.9902\n",
      "\n",
      "Epoch 00002: val_accuracy did not improve from 0.99018\n",
      "Epoch 3/5\n",
      "63/63 [==============================] - 29s 461ms/step - loss: 0.0420 - accuracy: 0.9836 - val_loss: 0.0300 - val_accuracy: 0.9902\n",
      "\n",
      "Epoch 00003: val_accuracy did not improve from 0.99018\n",
      "Epoch 4/5\n",
      "63/63 [==============================] - 29s 459ms/step - loss: 0.0152 - accuracy: 0.9949 - val_loss: 0.1833 - val_accuracy: 0.9548\n",
      "\n",
      "Epoch 00004: val_accuracy did not improve from 0.99018\n",
      "Epoch 5/5\n",
      "63/63 [==============================] - 29s 456ms/step - loss: 0.0381 - accuracy: 0.9874 - val_loss: 0.0556 - val_accuracy: 0.9882\n",
      "\n",
      "Epoch 00005: val_accuracy did not improve from 0.99018\n"
     ]
    }
   ],
   "source": [
    "bin = modelV2.fit_generator(tr,\n",
    "                         steps_per_epoch = (tr.samples//32),\n",
    "                         epochs = 5,\n",
    "                         validation_data = va,\n",
    "                         validation_steps = (va.samples/32),\n",
    "                         callbacks = [checkpoint],\n",
    "                         verbose=1)"
   ]
  },
  {
   "cell_type": "markdown",
   "metadata": {
    "id": "jMMGG6h4rQ6s"
   },
   "source": [
    "## Accuracy of VGG Model in Binary Classification of Covid and Viral Pneumonia"
   ]
  },
  {
   "cell_type": "code",
   "execution_count": null,
   "metadata": {
    "colab": {
     "base_uri": "https://localhost:8080/"
    },
    "id": "9i90y4SOrbxG",
    "outputId": "5fb130b7-d557-4655-fce5-b7106127b5bd"
   },
   "outputs": [
    {
     "name": "stdout",
     "output_type": "stream",
     "text": [
      "16/16 [==============================] - 7s 439ms/step - loss: 0.0141 - accuracy: 0.9961\n",
      "Accuracy: 99.61\n"
     ]
    }
   ],
   "source": [
    "bin_c = modelV2.evaluate(va,verbose=1)\n",
    "print('Accuracy: %.2f' % (bin_c[1]*100))"
   ]
  },
  {
   "cell_type": "code",
   "execution_count": null,
   "metadata": {
    "id": "ugkOou0Ho_xn"
   },
   "outputs": [],
   "source": [
    "!cp -r \"/content/VGG_CNN__binary_model_Pneumonia.h5\" \"/content/drive/MyDrive/Model1\""
   ]
  },
  {
   "cell_type": "markdown",
   "metadata": {
    "id": "Dx4j8CTtIF_h"
   },
   "source": [
    "## ROC Curve of VGG Binary Model"
   ]
  },
  {
   "cell_type": "code",
   "execution_count": null,
   "metadata": {
    "colab": {
     "base_uri": "https://localhost:8080/"
    },
    "id": "DKA6s3JmpOhI",
    "outputId": "cfd91641-f1da-429d-88af-620cd0d51876"
   },
   "outputs": [
    {
     "name": "stderr",
     "output_type": "stream",
     "text": [
      "/usr/local/lib/python3.6/dist-packages/tensorflow/python/keras/engine/sequential.py:425: UserWarning: `model.predict_proba()` is deprecated and will be removed after 2021-01-01. Please use `model.predict()` instead.\n",
      "  warnings.warn('`model.predict_proba()` is deprecated and '\n"
     ]
    },
    {
     "name": "stdout",
     "output_type": "stream",
     "text": [
      "16/16 [==============================] - 7s 453ms/step\n"
     ]
    }
   ],
   "source": [
    "y_Vpred2= modelV2.predict_proba(va,verbose=1)"
   ]
  },
  {
   "cell_type": "code",
   "execution_count": null,
   "metadata": {
    "colab": {
     "base_uri": "https://localhost:8080/"
    },
    "id": "7uBAY5ggpOMe",
    "outputId": "563d555d-3281-4be4-b76b-0c653c413d0c"
   },
   "outputs": [
    {
     "name": "stdout",
     "output_type": "stream",
     "text": [
      "(509, 1)\n"
     ]
    }
   ],
   "source": [
    "Vpred2= np.round(y_Vpred2)\n",
    "y_V2= va.classes\n",
    "# y=np.expand_dims(y,axis=1)\n",
    "print(Vpred2.shape)"
   ]
  },
  {
   "cell_type": "code",
   "execution_count": null,
   "metadata": {
    "colab": {
     "base_uri": "https://localhost:8080/",
     "height": 295
    },
    "id": "0SKNJUXJplrB",
    "outputId": "0fc297a4-84c7-492b-af85-f9d158ece299"
   },
   "outputs": [
    {
     "data": {
      "image/png": "[encoded data removed]",
      "text/plain": [
       "<Figure size 432x288 with 1 Axes>"
      ]
     },
     "metadata": {
      "needs_background": "light",
      "tags": []
     },
     "output_type": "display_data"
    }
   ],
   "source": [
    "fprV, tprV, thresholdV = metrics.roc_curve(y_V2, Vpred2)\n",
    "roc_auc2 = metrics.auc(fprV, tprV)\n",
    "\n",
    "# method I: plt\n",
    "\n",
    "# plt.title('Receiver Operating Characteristic')\n",
    "# plt.plot(fpr, tpr, 'b', label = 'AUC = %0.2f' % roc_auc)\n",
    "# plt.legend(loc = 'lower right')\n",
    "# plt.plot([0, 1], [0, 1],'r--')\n",
    "# plt.xlim([0, 1])\n",
    "# plt.ylim([0, 1])\n",
    "# plt.ylabel('True Positive Rate')\n",
    "# plt.xlabel('False Positive Rate')\n",
    "# plt.show()\n",
    "\n",
    "plt.figure(1)\n",
    "plt.plot([0, 1], [0, 1], 'k--')\n",
    "plt.plot(fprV, tprV, label='VGG_Binary (area = {:.3f})'.format(roc_auc2))\n",
    "# plt.plot(fpr_rf, tpr_rf, label='RF (area = {:.3f})'.format(auc_rf))\n",
    "plt.xlabel('False positive rate')\n",
    "plt.ylabel('True positive rate')\n",
    "plt.title('ROC curve')\n",
    "plt.legend(loc='best')\n",
    "plt.savefig('VGG_binary_Pneumonia',dpi=300)\n",
    "plt.show()"
   ]
  },
  {
   "cell_type": "code",
   "execution_count": null,
   "metadata": {
    "id": "bfE1p50wqbnc"
   },
   "outputs": [],
   "source": [
    "!cp -r \"/content/VGG_binary_Pneumonia.png\" \"/content/drive/MyDrive/Model\""
   ]
  },
  {
   "cell_type": "markdown",
   "metadata": {
    "id": "2XXZLQ2tIQKx"
   },
   "source": [
    "## Comparison of VGG and Custom Binary Model in classification of Covid and Viral Penumonia"
   ]
  },
  {
   "cell_type": "code",
   "execution_count": null,
   "metadata": {
    "colab": {
     "base_uri": "https://localhost:8080/",
     "height": 573
    },
    "id": "9FKm7WjYplYW",
    "outputId": "f8547255-a6bd-42da-d9a3-dc2874c5053e"
   },
   "outputs": [
    {
     "data": {
      "image/png": "[encoded data removed]",
      "text/plain": [
       "<Figure size 432x288 with 1 Axes>"
      ]
     },
     "metadata": {
      "needs_background": "light",
      "tags": []
     },
     "output_type": "display_data"
    },
    {
     "data": {
      "image/png": "[encoded data removed]",
      "text/plain": [
       "<Figure size 432x288 with 1 Axes>"
      ]
     },
     "metadata": {
      "needs_background": "light",
      "tags": []
     },
     "output_type": "display_data"
    }
   ],
   "source": [
    "plt.figure(1)\n",
    "plt.plot([0, 1], [0, 1], 'k--')\n",
    "plt.plot(fprV, tprV, label='VGG (area = {:.3f})'.format(roc_auc2))\n",
    "plt.plot(fpr, tpr, label='Custom (area = {:.3f})'.format(roc_auc))\n",
    "plt.xlabel('False positive rate')\n",
    "plt.ylabel('True positive rate')\n",
    "plt.title('ROC curve')\n",
    "plt.legend(loc='best')\n",
    "plt.savefig('VGG_Custom_both_Pneumonia',dpi=300)\n",
    "plt.show()\n",
    "\n",
    "plt.figure(2)\n",
    "plt.xlim(0, 0.2)\n",
    "plt.ylim(0.9, 1.03)\n",
    "plt.plot([0, 1], [0, 1], 'k--')\n",
    "plt.plot(fprV, tprV, label='VGG (area = {:.3f})'.format(roc_auc2))\n",
    "plt.plot(fpr, tpr, label='Custom (area = {:.3f})'.format(roc_auc))\n",
    "plt.xlabel('False positive rate')\n",
    "plt.ylabel('True positive rate')\n",
    "plt.title('ROC curve (zoomed in at top left)')\n",
    "plt.legend(loc='best')\n",
    "plt.savefig('VGG_Custom_zoomed_Pneumonia',dpi=300)\n",
    "plt.show()"
   ]
  },
  {
   "cell_type": "code",
   "execution_count": null,
   "metadata": {
    "id": "p7DL1CyPqZf1"
   },
   "outputs": [],
   "source": [
    "!cp -r \"/content/VGG_Custom_zoomed_Pneumonia.png\" \"/content/drive/MyDrive/Model1\""
   ]
  },
  {
   "cell_type": "markdown",
   "metadata": {
    "id": "XMkQBlp_cNfe"
   },
   "source": [
    "# **So Clearly VGG Model is better in all 3 classifications. Therefore, we can say using Transfer Learning is more useful and impactful than creating Custom model**"
   ]
  }
 ],
 "metadata": {
  "accelerator": "GPU",
  "colab": {
   "collapsed_sections": [],
   "name": "Ardent.ipynb",
   "provenance": []
  },
  "kernelspec": {
   "display_name": "Python 3",
   "language": "python",
   "name": "python3"
  },
  "language_info": {
   "codemirror_mode": {
    "name": "ipython",
    "version": 3
   },
   "file_extension": ".py",
   "mimetype": "text/x-python",
   "name": "python",
   "nbconvert_exporter": "python",
   "pygments_lexer": "ipython3",
   "version": "3.8.7"
  }
 },
 "nbformat": 4,
 "nbformat_minor": 1
}
